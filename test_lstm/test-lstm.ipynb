{
 "cells": [
  {
   "cell_type": "code",
   "execution_count": 39,
   "id": "f659d730-55bc-40e0-a7ff-43f9733b1dbf",
   "metadata": {},
   "outputs": [],
   "source": [
    "import numpy as np\n",
    "import random\n",
    "import os\n",
    "\n",
    "import torch\n",
    "torch.use_deterministic_algorithms(True)  # to help make code deterministic\n",
    "torch.backends.cudnn.benchmark = False  # to help make code deterministic\n",
    "import torch.nn as nn\n",
    "from torchinfo import summary\n",
    "\n",
    "np.random.seed(0)  # to help make code deterministic\n",
    "torch.manual_seed(0)  # to help make code deterministic\n",
    "random.seed(0)  # to help make code deterministic\n",
    "\n",
    "import pickle\n",
    "\n",
    "import torchtext\n",
    "from torchtext.data import get_tokenizer\n",
    "from torchtext.vocab import build_vocab_from_iterator\n",
    "\n",
    "from UDA_pytorch_utils import UDA_pytorch_classifier_fit, \\\n",
    "    UDA_plot_train_val_accuracy_vs_epoch, UDA_pytorch_classifier_predict, \\\n",
    "    UDA_compute_accuracy, UDA_get_rnn_last_time_step_outputs"
   ]
  },
  {
   "cell_type": "code",
   "execution_count": 27,
   "id": "79959631-9e0e-4209-b334-624534b7ebc8",
   "metadata": {},
   "outputs": [],
   "source": [
    "with open('vocab.pkl', 'rb') as input:\n",
    "    vocab = pickle.load(input)"
   ]
  },
  {
   "cell_type": "code",
   "execution_count": 29,
   "id": "b95d4ac3-4e47-43bb-818c-3ec3a72d87d8",
   "metadata": {},
   "outputs": [],
   "source": [
    "with open('embedding_matrix', 'rb') as input:\n",
    "    embedding_matrix = pickle.load(input)"
   ]
  },
  {
   "cell_type": "code",
   "execution_count": 43,
   "id": "d81d35f1-d2b2-4ec1-8b10-b63ab38be99f",
   "metadata": {},
   "outputs": [],
   "source": [
    "tokenizer = get_tokenizer('spacy', language='en_core_web_sm')"
   ]
  },
  {
   "cell_type": "code",
   "execution_count": 47,
   "id": "99745a56-a736-46b9-88fc-3d44801143d0",
   "metadata": {},
   "outputs": [],
   "source": [
    "def tokenizer_lowercase(text):\n",
    "    return [token.lower() for token in tokenizer(text)]"
   ]
  },
  {
   "cell_type": "code",
   "execution_count": 33,
   "id": "af3e3746-12de-4a0a-9dea-7b30eaa0f457",
   "metadata": {},
   "outputs": [],
   "source": [
    "class EmbeddingLSTMLinearModel(nn.Module):\n",
    "    def __init__(self, embedding_matrix, num_lstm_output_nodes, num_final_output_nodes):\n",
    "        super().__init__()\n",
    "        self.embedding_layer = nn.Embedding.from_pretrained(embedding_matrix)\n",
    "        self.lstm_layer = nn.LSTM(embedding_matrix.shape[1], num_lstm_output_nodes)\n",
    "        self.linear_layer = nn.Linear(num_lstm_output_nodes, num_final_output_nodes)\n",
    "\n",
    "    def forward(self, text_encodings, lengths):\n",
    "        embeddings = self.embedding_layer(text_encodings)\n",
    "\n",
    "        rnn_last_time_step_outputs = \\\n",
    "            UDA_get_rnn_last_time_step_outputs(embeddings, lengths, self.lstm_layer)\n",
    "\n",
    "        return self.linear_layer(rnn_last_time_step_outputs)"
   ]
  },
  {
   "cell_type": "code",
   "execution_count": 35,
   "id": "1162e286-82ea-4619-ac91-f4d57ca027c6",
   "metadata": {},
   "outputs": [],
   "source": [
    "simple_lstm_model = EmbeddingLSTMLinearModel(embedding_matrix, 32, 2)"
   ]
  },
  {
   "cell_type": "code",
   "execution_count": 41,
   "id": "8c903f30-18f0-4d55-9be2-cd154ae7cdb6",
   "metadata": {},
   "outputs": [
    {
     "data": {
      "text/plain": [
       "==========================================================================================\n",
       "Layer (type:depth-idx)                   Output Shape              Param #\n",
       "==========================================================================================\n",
       "EmbeddingLSTMLinearModel                 [5, 2]                    --\n",
       "├─Embedding: 1-1                         [7, 5, 100]               (9,066,700)\n",
       "├─LSTM: 1-2                              [18, 32]                  17,152\n",
       "├─Linear: 1-3                            [5, 2]                    66\n",
       "==========================================================================================\n",
       "Total params: 9,083,918\n",
       "Trainable params: 17,218\n",
       "Non-trainable params: 9,066,700\n",
       "Total mult-adds (Units.MEGABYTES): 73.35\n",
       "==========================================================================================\n",
       "Input size (MB): 0.00\n",
       "Forward/backward pass size (MB): 0.03\n",
       "Params size (MB): 36.34\n",
       "Estimated Total Size (MB): 36.37\n",
       "=========================================================================================="
      ]
     },
     "execution_count": 41,
     "metadata": {},
     "output_type": "execute_result"
    }
   ],
   "source": [
    "summary(simple_lstm_model,\n",
    "        input_data=[torch.zeros((7, 5), dtype=torch.long),\n",
    "                    torch.tensor([3, 2, 5, 1, 7], dtype=torch.long)])"
   ]
  },
  {
   "cell_type": "code",
   "execution_count": 45,
   "id": "70475fd0-153a-40ad-baa0-7b6814345625",
   "metadata": {},
   "outputs": [
    {
     "data": {
      "text/plain": [
       "<All keys matched successfully>"
      ]
     },
     "execution_count": 45,
     "metadata": {},
     "output_type": "execute_result"
    }
   ],
   "source": [
    "simple_lstm_model.load_state_dict(torch.load('imdb_lstm_epoch20.pt'))"
   ]
  },
  {
   "cell_type": "code",
   "execution_count": 119,
   "id": "c03c5eb1-5346-4b90-ba16-76528a6b52c8",
   "metadata": {},
   "outputs": [
    {
     "data": {
      "text/plain": [
       "1"
      ]
     },
     "execution_count": 119,
     "metadata": {},
     "output_type": "execute_result"
    }
   ],
   "source": [
    "sent_val = UDA_pytorch_classifier_predict(simple_lstm_model,\n",
    "                               [vocab(tokenizer_lowercase('I loved this movie'))],\n",
    "                               rnn=True).numpy()[0]\n",
    "\n",
    "sent_val"
   ]
  },
  {
   "cell_type": "code",
   "execution_count": null,
   "id": "a05a9061-aa57-4054-bf4b-0679aca0a377",
   "metadata": {},
   "outputs": [],
   "source": []
  }
 ],
 "metadata": {
  "kernelspec": {
   "display_name": "Python 3 (ipykernel)",
   "language": "python",
   "name": "python3"
  },
  "language_info": {
   "codemirror_mode": {
    "name": "ipython",
    "version": 3
   },
   "file_extension": ".py",
   "mimetype": "text/x-python",
   "name": "python",
   "nbconvert_exporter": "python",
   "pygments_lexer": "ipython3",
   "version": "3.11.7"
  }
 },
 "nbformat": 4,
 "nbformat_minor": 5
}
